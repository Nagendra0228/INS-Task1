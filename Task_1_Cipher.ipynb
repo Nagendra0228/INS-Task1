{
  "nbformat": 4,
  "nbformat_minor": 0,
  "metadata": {
    "colab": {
      "provenance": [],
      "authorship_tag": "ABX9TyPzLwhxiUjztBf+iYLqXCAK",
      "include_colab_link": true
    },
    "kernelspec": {
      "name": "python3",
      "display_name": "Python 3"
    },
    "language_info": {
      "name": "python"
    }
  },
  "cells": [
    {
      "cell_type": "markdown",
      "metadata": {
        "id": "view-in-github",
        "colab_type": "text"
      },
      "source": [
        "<a href=\"https://colab.research.google.com/github/Nagendra0228/INS-Task1/blob/main/Task_1_Cipher.ipynb\" target=\"_parent\"><img src=\"https://colab.research.google.com/assets/colab-badge.svg\" alt=\"Open In Colab\"/></a>"
      ]
    },
    {
      "cell_type": "markdown",
      "source": [
        "1. Playfair Cipher (Encryption & Decryption)"
      ],
      "metadata": {
        "id": "hl61paaZQQ8N"
      }
    },
    {
      "cell_type": "code",
      "execution_count": 1,
      "metadata": {
        "colab": {
          "base_uri": "https://localhost:8080/"
        },
        "id": "TE-5vp4AQKFX",
        "outputId": "3a4665b2-7250-4e4a-d39a-fff659198380"
      },
      "outputs": [
        {
          "output_type": "stream",
          "name": "stdout",
          "text": [
            "Playfair Cipher\n",
            "Encrypted: KGYVRV\n",
            "Decrypted: HELXLO\n"
          ]
        }
      ],
      "source": [
        "import numpy as np\n",
        "\n",
        "# Function to generate the 5x5 Playfair matrix\n",
        "def generate_playfair_matrix(key):\n",
        "    key = \"\".join(dict.fromkeys(key.replace(\"J\", \"I\")))  # Remove duplicates, replace J with I\n",
        "    alphabet = \"ABCDEFGHIKLMNOPQRSTUVWXYZ\"\n",
        "    matrix = key + \"\".join([c for c in alphabet if c not in key])\n",
        "    return np.array(list(matrix)).reshape(5, 5)\n",
        "\n",
        "# Function to find row and column of a letter in the matrix\n",
        "def find_position(matrix, letter):\n",
        "    row, col = np.where(matrix == letter)\n",
        "    return row[0], col[0]\n",
        "\n",
        "# Function to encrypt digraphs\n",
        "def encrypt_playfair(text, matrix):\n",
        "    text = text.replace(\"J\", \"I\").upper()\n",
        "    text = \"\".join([c for c in text if c.isalpha()])\n",
        "\n",
        "    # Convert text into digraphs, inserting 'X' if necessary\n",
        "    pairs = []\n",
        "    i = 0\n",
        "    while i < len(text):\n",
        "        a = text[i]\n",
        "        b = text[i+1] if i+1 < len(text) and text[i] != text[i+1] else 'X'\n",
        "        pairs.append(a + b)\n",
        "        i += 2 if i+1 < len(text) and text[i] != text[i+1] else 1\n",
        "\n",
        "    cipher_text = \"\"\n",
        "    for pair in pairs:\n",
        "        r1, c1 = find_position(matrix, pair[0])\n",
        "        r2, c2 = find_position(matrix, pair[1])\n",
        "\n",
        "        if r1 == r2:  # Same row\n",
        "            cipher_text += matrix[r1, (c1+1) % 5] + matrix[r2, (c2+1) % 5]\n",
        "        elif c1 == c2:  # Same column\n",
        "            cipher_text += matrix[(r1+1) % 5, c1] + matrix[(r2+1) % 5, c2]\n",
        "        else:  # Rectangle swap\n",
        "            cipher_text += matrix[r1, c2] + matrix[r2, c1]\n",
        "\n",
        "    return cipher_text\n",
        "\n",
        "# Function to decrypt\n",
        "def decrypt_playfair(text, matrix):\n",
        "    plain_text = \"\"\n",
        "    for i in range(0, len(text), 2):\n",
        "        r1, c1 = find_position(matrix, text[i])\n",
        "        r2, c2 = find_position(matrix, text[i+1])\n",
        "\n",
        "        if r1 == r2:  # Same row\n",
        "            plain_text += matrix[r1, (c1-1) % 5] + matrix[r2, (c2-1) % 5]\n",
        "        elif c1 == c2:  # Same column\n",
        "            plain_text += matrix[(r1-1) % 5, c1] + matrix[(r2-1) % 5, c2]\n",
        "        else:  # Rectangle swap\n",
        "            plain_text += matrix[r1, c2] + matrix[r2, c1]\n",
        "\n",
        "    return plain_text\n",
        "\n",
        "# Example Usage\n",
        "key = \"PLAYFAIR\"\n",
        "matrix = generate_playfair_matrix(key)\n",
        "plaintext = \"HELLO\"\n",
        "ciphertext = encrypt_playfair(plaintext, matrix)\n",
        "decrypted = decrypt_playfair(ciphertext, matrix)\n",
        "\n",
        "print(\"Playfair Cipher\")\n",
        "print(\"Encrypted:\", ciphertext)\n",
        "print(\"Decrypted:\", decrypted)\n"
      ]
    },
    {
      "cell_type": "markdown",
      "source": [
        "2. Hill Cipher (Encryption & Decryption)"
      ],
      "metadata": {
        "id": "I4XALKaRRzNd"
      }
    },
    {
      "cell_type": "code",
      "source": [
        "import numpy as np\n",
        "\n",
        "# Function to convert text to numerical values\n",
        "def text_to_numbers(text):\n",
        "    return [ord(c) - ord('A') for c in text]\n",
        "\n",
        "# Function to convert numerical values back to text\n",
        "def numbers_to_text(numbers):\n",
        "    return ''.join(chr(n + ord('A')) for n in numbers)\n",
        "\n",
        "# Encrypt using Hill Cipher\n",
        "def encrypt_hill(plaintext, key_matrix):\n",
        "    n = len(key_matrix)\n",
        "    plaintext = plaintext.upper().replace(\" \", \"\")\n",
        "    plaintext_numbers = text_to_numbers(plaintext)\n",
        "\n",
        "    # Pad plaintext if necessary\n",
        "    while len(plaintext_numbers) % n != 0:\n",
        "        plaintext_numbers.append(0)\n",
        "\n",
        "    # Convert plaintext into matrix form\n",
        "    plaintext_matrix = np.array(plaintext_numbers).reshape(-1, n)\n",
        "\n",
        "    # Encrypt using matrix multiplication\n",
        "    cipher_matrix = (np.dot(plaintext_matrix, key_matrix) % 26).flatten()\n",
        "    return numbers_to_text(cipher_matrix)\n",
        "\n",
        "# Decrypt using Hill Cipher\n",
        "def decrypt_hill(ciphertext, key_matrix):\n",
        "    n = len(key_matrix)\n",
        "    ciphertext_numbers = text_to_numbers(ciphertext)\n",
        "\n",
        "    # Convert ciphertext into matrix form\n",
        "    cipher_matrix = np.array(ciphertext_numbers).reshape(-1, n)\n",
        "\n",
        "    # Compute modular inverse of the key matrix\n",
        "    det = int(np.round(np.linalg.det(key_matrix))) % 26\n",
        "    det_inv = pow(det, -1, 26)  # Modular inverse under mod 26\n",
        "    adjugate = np.round(det * np.linalg.inv(key_matrix)).astype(int) % 26\n",
        "    inverse_matrix = (det_inv * adjugate) % 26\n",
        "\n",
        "    # Decrypt using matrix multiplication\n",
        "    plain_matrix = (np.dot(cipher_matrix, inverse_matrix) % 26).flatten()\n",
        "    return numbers_to_text(plain_matrix)\n",
        "\n",
        "# Example Usage\n",
        "key_matrix = np.array([[3, 3], [2, 5]])  # Invertible mod 26\n",
        "plaintext = \"HI\"\n",
        "ciphertext = encrypt_hill(plaintext, key_matrix)\n",
        "decrypted = decrypt_hill(ciphertext, key_matrix)\n",
        "\n",
        "print(\"\\nHill Cipher\")\n",
        "print(\"Encrypted:\", ciphertext)\n",
        "print(\"Decrypted:\", decrypted)\n"
      ],
      "metadata": {
        "colab": {
          "base_uri": "https://localhost:8080/"
        },
        "id": "xRQEe4crRx8F",
        "outputId": "e184271d-43c4-4a30-8338-66152c172782"
      },
      "execution_count": 4,
      "outputs": [
        {
          "output_type": "stream",
          "name": "stdout",
          "text": [
            "\n",
            "Hill Cipher\n",
            "Encrypted: LJ\n",
            "Decrypted: HI\n"
          ]
        }
      ]
    },
    {
      "cell_type": "markdown",
      "source": [
        "3. Vigenère Cipher (Encryption & Decryption)"
      ],
      "metadata": {
        "id": "SqGDJQOCSoe5"
      }
    },
    {
      "cell_type": "code",
      "source": [
        "# Function to generate key of the same length as text\n",
        "def generate_key(text, key):\n",
        "    key = key.upper()\n",
        "    return (key * (len(text) // len(key))) + key[:len(text) % len(key)]\n",
        "\n",
        "# Encrypt using Vigenère Cipher\n",
        "def encrypt_vigenere(text, key):\n",
        "    text = text.upper()\n",
        "    key = generate_key(text, key)\n",
        "    cipher_text = \"\"\n",
        "\n",
        "    for i in range(len(text)):\n",
        "        shift = ord(key[i]) - ord('A')\n",
        "        cipher_text += chr(((ord(text[i]) - ord('A') + shift) % 26) + ord('A'))\n",
        "\n",
        "    return cipher_text\n",
        "\n",
        "# Decrypt using Vigenère Cipher\n",
        "def decrypt_vigenere(text, key):\n",
        "    text = text.upper()\n",
        "    key = generate_key(text, key)\n",
        "    plain_text = \"\"\n",
        "\n",
        "    for i in range(len(text)):\n",
        "        shift = ord(key[i]) - ord('A')\n",
        "        plain_text += chr(((ord(text[i]) - ord('A') - shift) % 26) + ord('A'))\n",
        "\n",
        "    return plain_text\n",
        "\n",
        "# Example Usage\n",
        "plaintext = \"HELLO\"\n",
        "key = \"KEY\"\n",
        "ciphertext = encrypt_vigenere(plaintext, key)\n",
        "decrypted = decrypt_vigenere(ciphertext, key)\n",
        "\n",
        "print(\"\\nVigenère Cipher\")\n",
        "print(\"Encrypted:\", ciphertext)\n",
        "print(\"Decrypted:\", decrypted)\n"
      ],
      "metadata": {
        "colab": {
          "base_uri": "https://localhost:8080/"
        },
        "id": "doOLrIgaSRBn",
        "outputId": "ed4387f1-3b5d-4a94-8848-806d2a314094"
      },
      "execution_count": 5,
      "outputs": [
        {
          "output_type": "stream",
          "name": "stdout",
          "text": [
            "\n",
            "Vigenère Cipher\n",
            "Encrypted: RIJVS\n",
            "Decrypted: HELLO\n"
          ]
        }
      ]
    },
    {
      "cell_type": "code",
      "source": [],
      "metadata": {
        "id": "60PjoUPuSnPx"
      },
      "execution_count": null,
      "outputs": []
    }
  ]
}